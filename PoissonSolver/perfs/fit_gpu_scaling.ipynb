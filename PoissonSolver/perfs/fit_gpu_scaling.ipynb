{
 "cells": [
  {
   "cell_type": "markdown",
   "id": "d4754d69-5cdc-4972-8c12-41a7236fbff8",
   "metadata": {},
   "source": [
    "# Properly fit the GPU scaling\n",
    "\n",
    "## Introduction\n",
    "\n",
    "My method used to be an asymptotic fit in loglog scale, i.e. a linear fit on the two regimes.  \n",
    "This method has a few problems:\n",
    "- fitting the 2nd regime with the 6th point or not changes the slope (from 0.93 to 1.0)\n",
    "- does not take into account the incertitudes on the points\n",
    "\n",
    "Let's try to fit all the data at the same time taking into account the incertitudes.\n",
    "\n",
    "We consider two models:\n",
    "- a constant + power law (i.e. constant + linear model in log scale)\n",
    "- two power laws (i.e. two linear models in log scale)\n",
    "\n",
    "A linear model on log scaled data writes:\n",
    "$$ \\log(y) = a + b\\log(x) \\Longrightarrow y = \\exp(a + b\\log(x)) = e^a b^x $$\n",
    "Thus with $a' = e^a$, we have\n",
    "$$ y = a x^b $$\n",
    "which is a power law.\n",
    "\n",
    "Despite what would seem logical, we cannot add two models in log scale without encoutering problems with the sum of the log. Thinking in linear scale is probably simpler.  \n",
    "Therefore, the two aformentionned model write\n",
    "- $y_1 = a + b x^c$\n",
    "- $y_2 = a x^b + c x^d$"
   ]
  },
  {
   "cell_type": "markdown",
   "id": "32ba737a-61a6-4a26-ab94-d84659fc23eb",
   "metadata": {},
   "source": [
    "## Data loading, linear plot and model definition"
   ]
  },
  {
   "cell_type": "code",
   "execution_count": 1,
   "id": "ea3f3520-c44c-4bc5-acc4-6db13381b143",
   "metadata": {
    "execution": {
     "iopub.execute_input": "2021-07-10T18:56:20.383360Z",
     "iopub.status.busy": "2021-07-10T18:56:20.382030Z",
     "iopub.status.idle": "2021-07-10T18:56:23.345619Z",
     "shell.execute_reply": "2021-07-10T18:56:23.344471Z",
     "shell.execute_reply.started": "2021-07-10T18:56:20.383220Z"
    },
    "tags": []
   },
   "outputs": [],
   "source": [
    "import pandas as pd\n",
    "import matplotlib.pyplot as plt\n",
    "import numpy as np\n",
    "from scipy.optimize import curve_fit"
   ]
  },
  {
   "cell_type": "code",
   "execution_count": 2,
   "id": "54299276-e879-4e56-a3f5-6c646a54d84a",
   "metadata": {
    "execution": {
     "iopub.execute_input": "2021-07-10T18:56:23.352145Z",
     "iopub.status.busy": "2021-07-10T18:56:23.351024Z",
     "iopub.status.idle": "2021-07-10T18:56:23.410053Z",
     "shell.execute_reply": "2021-07-10T18:56:23.408771Z",
     "shell.execute_reply.started": "2021-07-10T18:56:23.352097Z"
    },
    "tags": []
   },
   "outputs": [
    {
     "data": {
      "text/html": [
       "<div>\n",
       "<style scoped>\n",
       "    .dataframe tbody tr th:only-of-type {\n",
       "        vertical-align: middle;\n",
       "    }\n",
       "\n",
       "    .dataframe tbody tr th {\n",
       "        vertical-align: top;\n",
       "    }\n",
       "\n",
       "    .dataframe thead th {\n",
       "        text-align: right;\n",
       "    }\n",
       "</style>\n",
       "<table border=\"1\" class=\"dataframe\">\n",
       "  <thead>\n",
       "    <tr style=\"text-align: right;\">\n",
       "      <th></th>\n",
       "      <th>size</th>\n",
       "      <th>mean</th>\n",
       "      <th>std</th>\n",
       "      <th>nnode</th>\n",
       "    </tr>\n",
       "  </thead>\n",
       "  <tbody>\n",
       "    <tr>\n",
       "      <th>0</th>\n",
       "      <td>51</td>\n",
       "      <td>0.002539</td>\n",
       "      <td>0.000032</td>\n",
       "      <td>2601</td>\n",
       "    </tr>\n",
       "    <tr>\n",
       "      <th>1</th>\n",
       "      <td>101</td>\n",
       "      <td>0.002863</td>\n",
       "      <td>0.000031</td>\n",
       "      <td>10201</td>\n",
       "    </tr>\n",
       "    <tr>\n",
       "      <th>2</th>\n",
       "      <td>121</td>\n",
       "      <td>0.002961</td>\n",
       "      <td>0.000032</td>\n",
       "      <td>14641</td>\n",
       "    </tr>\n",
       "    <tr>\n",
       "      <th>3</th>\n",
       "      <td>201</td>\n",
       "      <td>0.002939</td>\n",
       "      <td>0.000069</td>\n",
       "      <td>40401</td>\n",
       "    </tr>\n",
       "    <tr>\n",
       "      <th>4</th>\n",
       "      <td>301</td>\n",
       "      <td>0.003080</td>\n",
       "      <td>0.000203</td>\n",
       "      <td>90601</td>\n",
       "    </tr>\n",
       "    <tr>\n",
       "      <th>5</th>\n",
       "      <td>401</td>\n",
       "      <td>0.003581</td>\n",
       "      <td>0.000276</td>\n",
       "      <td>160801</td>\n",
       "    </tr>\n",
       "    <tr>\n",
       "      <th>6</th>\n",
       "      <td>601</td>\n",
       "      <td>0.005925</td>\n",
       "      <td>0.001037</td>\n",
       "      <td>361201</td>\n",
       "    </tr>\n",
       "    <tr>\n",
       "      <th>7</th>\n",
       "      <td>801</td>\n",
       "      <td>0.009374</td>\n",
       "      <td>0.001175</td>\n",
       "      <td>641601</td>\n",
       "    </tr>\n",
       "    <tr>\n",
       "      <th>8</th>\n",
       "      <td>1001</td>\n",
       "      <td>0.014535</td>\n",
       "      <td>0.001319</td>\n",
       "      <td>1002001</td>\n",
       "    </tr>\n",
       "    <tr>\n",
       "      <th>9</th>\n",
       "      <td>1501</td>\n",
       "      <td>0.032611</td>\n",
       "      <td>0.001405</td>\n",
       "      <td>2253001</td>\n",
       "    </tr>\n",
       "    <tr>\n",
       "      <th>10</th>\n",
       "      <td>2001</td>\n",
       "      <td>0.057562</td>\n",
       "      <td>0.000819</td>\n",
       "      <td>4004001</td>\n",
       "    </tr>\n",
       "    <tr>\n",
       "      <th>11</th>\n",
       "      <td>3001</td>\n",
       "      <td>0.145998</td>\n",
       "      <td>0.001845</td>\n",
       "      <td>9006001</td>\n",
       "    </tr>\n",
       "  </tbody>\n",
       "</table>\n",
       "</div>"
      ],
      "text/plain": [
       "    size      mean       std    nnode\n",
       "0     51  0.002539  0.000032     2601\n",
       "1    101  0.002863  0.000031    10201\n",
       "2    121  0.002961  0.000032    14641\n",
       "3    201  0.002939  0.000069    40401\n",
       "4    301  0.003080  0.000203    90601\n",
       "5    401  0.003581  0.000276   160801\n",
       "6    601  0.005925  0.001037   361201\n",
       "7    801  0.009374  0.001175   641601\n",
       "8   1001  0.014535  0.001319  1002001\n",
       "9   1501  0.032611  0.001405  2253001\n",
       "10  2001  0.057562  0.000819  4004001\n",
       "11  3001  0.145998  0.001845  9006001"
      ]
     },
     "execution_count": 2,
     "metadata": {},
     "output_type": "execute_result"
    }
   ],
   "source": [
    "data = pd.read_csv(\"gpu_timings.csv\")\n",
    "data[\"nnode\"] = data[\"size\"] ** 2\n",
    "data"
   ]
  },
  {
   "cell_type": "code",
   "execution_count": 4,
   "id": "9ec05934-5928-417d-b8b5-ebb1ceec8338",
   "metadata": {
    "execution": {
     "iopub.execute_input": "2021-07-10T18:56:30.969166Z",
     "iopub.status.busy": "2021-07-10T18:56:30.968772Z",
     "iopub.status.idle": "2021-07-10T18:56:31.587228Z",
     "shell.execute_reply": "2021-07-10T18:56:31.586199Z",
     "shell.execute_reply.started": "2021-07-10T18:56:30.969127Z"
    },
    "tags": []
   },
   "outputs": [
    {
     "data": {
      "text/plain": [
       "Text(0, 0.5, 'Execution time [s]')"
      ]
     },
     "execution_count": 4,
     "metadata": {},
     "output_type": "execute_result"
    },
    {
     "data": {
      "image/png": "[encoded data removed]",
      "text/plain": [
       "<Figure size 576x432 with 1 Axes>"
      ]
     },
     "metadata": {
      "needs_background": "light"
     },
     "output_type": "display_data"
    }
   ],
   "source": [
    "plt.figure(figsize=(8,6))\n",
    "plt.errorbar(data[\"nnode\"], data[\"mean\"], data[\"std\"], fmt=\".\")\n",
    "\n",
    "plt.semilogx()\n",
    "plt.xlabel(\"Number of node\")\n",
    "plt.ylabel(\"Execution time [s]\")"
   ]
  },
  {
   "cell_type": "markdown",
   "id": "a31acb3c-fd25-415d-8ce7-828a71117d40",
   "metadata": {},
   "source": [
    "Let's define our models:"
   ]
  },
  {
   "cell_type": "code",
   "execution_count": 5,
   "id": "1d202aec-f387-4b9b-a9f4-6c4443d20b5d",
   "metadata": {
    "execution": {
     "iopub.execute_input": "2021-07-10T18:56:34.760628Z",
     "iopub.status.busy": "2021-07-10T18:56:34.760175Z",
     "iopub.status.idle": "2021-07-10T18:56:34.770501Z",
     "shell.execute_reply": "2021-07-10T18:56:34.769196Z",
     "shell.execute_reply.started": "2021-07-10T18:56:34.760571Z"
    },
    "tags": []
   },
   "outputs": [],
   "source": [
    "def power_law(x, a, b):\n",
    "    return a * (x**b)\n",
    "\n",
    "def cst_plus_power_law(x, a, b, c):\n",
    "    return a + power_law(x, b, c)\n",
    "\n",
    "def two_power_law(x, a, b, c, d):\n",
    "    return power_law(x, a, b) + power_law(x, c, d)\n",
    "\n",
    "def lin_model(x, a, b):\n",
    "    return a + b*x"
   ]
  },
  {
   "cell_type": "markdown",
   "id": "39c17d2c-f8fe-44c2-a28f-4f1b218c1b51",
   "metadata": {},
   "source": [
    "## Fit in linear space"
   ]
  },
  {
   "cell_type": "code",
   "execution_count": 6,
   "id": "b1eb8b93-1299-4d93-b89c-4a30742d8049",
   "metadata": {
    "execution": {
     "iopub.execute_input": "2021-07-10T18:56:35.089084Z",
     "iopub.status.busy": "2021-07-10T18:56:35.088573Z",
     "iopub.status.idle": "2021-07-10T18:56:35.135483Z",
     "shell.execute_reply": "2021-07-10T18:56:35.124386Z",
     "shell.execute_reply.started": "2021-07-10T18:56:35.089039Z"
    },
    "tags": []
   },
   "outputs": [],
   "source": [
    "# Extracting data\n",
    "x = data[\"nnode\"]\n",
    "y = data[\"mean\"]\n",
    "err_y = data[\"std\"]"
   ]
  },
  {
   "cell_type": "code",
   "execution_count": 7,
   "id": "1fd4873e-d4d5-41c1-93b3-304850f669bc",
   "metadata": {
    "execution": {
     "iopub.execute_input": "2021-07-10T18:56:35.434195Z",
     "iopub.status.busy": "2021-07-10T18:56:35.433817Z",
     "iopub.status.idle": "2021-07-10T18:56:35.468901Z",
     "shell.execute_reply": "2021-07-10T18:56:35.467924Z",
     "shell.execute_reply.started": "2021-07-10T18:56:35.434154Z"
    },
    "tags": []
   },
   "outputs": [],
   "source": [
    "# Initial guess from asymptotic linear fits on each regime\n",
    "lim1 = 5\n",
    "lim2 = -5\n",
    "init1, pcov_init1 = curve_fit(lin_model, x[:lim1], y[:lim1])\n",
    "init2, pcov_init2 = curve_fit(lin_model, x[lim2:], y[lim2:])"
   ]
  },
  {
   "cell_type": "code",
   "execution_count": 8,
   "id": "8528d3b4-2b1e-41a0-958a-f782134776c2",
   "metadata": {
    "execution": {
     "iopub.execute_input": "2021-07-10T18:56:37.181483Z",
     "iopub.status.busy": "2021-07-10T18:56:37.180984Z",
     "iopub.status.idle": "2021-07-10T18:56:37.196107Z",
     "shell.execute_reply": "2021-07-10T18:56:37.194067Z",
     "shell.execute_reply.started": "2021-07-10T18:56:37.181436Z"
    },
    "tags": []
   },
   "outputs": [
    {
     "data": {
      "text/plain": [
       "(array([2.74597796e-03, 4.11608020e-09]), array([0.03714615, 0.54958855]))"
      ]
     },
     "execution_count": 8,
     "metadata": {},
     "output_type": "execute_result"
    }
   ],
   "source": [
    "init1, np.sqrt(np.diag(pcov_init1))/init1"
   ]
  },
  {
   "cell_type": "code",
   "execution_count": 9,
   "id": "8ec95039-8fe9-44f4-9697-a8dc6a09ef70",
   "metadata": {
    "execution": {
     "iopub.execute_input": "2021-07-10T18:56:37.340272Z",
     "iopub.status.busy": "2021-07-10T18:56:37.339726Z",
     "iopub.status.idle": "2021-07-10T18:56:37.350082Z",
     "shell.execute_reply": "2021-07-10T18:56:37.348201Z",
     "shell.execute_reply.started": "2021-07-10T18:56:37.340208Z"
    },
    "tags": []
   },
   "outputs": [],
   "source": [
    "slope1, constant1 = init1\n",
    "slope2, constant2 = init2"
   ]
  },
  {
   "cell_type": "code",
   "execution_count": 10,
   "id": "a721cc06-f635-4ea3-bd28-8b40e6c01b4c",
   "metadata": {
    "execution": {
     "iopub.execute_input": "2021-07-10T18:56:37.520720Z",
     "iopub.status.busy": "2021-07-10T18:56:37.520283Z",
     "iopub.status.idle": "2021-07-10T18:56:37.753193Z",
     "shell.execute_reply": "2021-07-10T18:56:37.751031Z",
     "shell.execute_reply.started": "2021-07-10T18:56:37.520678Z"
    },
    "tags": []
   },
   "outputs": [],
   "source": [
    "popt_model, pcov_model = curve_fit(cst_plus_power_law, x, y, \n",
    "                                   sigma=err_y, p0=[constant1, constant2, slope2])"
   ]
  },
  {
   "cell_type": "code",
   "execution_count": 11,
   "id": "e7bbfcb1-27e2-44b9-9cab-ada3eb7d1c63",
   "metadata": {
    "execution": {
     "iopub.execute_input": "2021-07-10T18:56:37.768999Z",
     "iopub.status.busy": "2021-07-10T18:56:37.767938Z",
     "iopub.status.idle": "2021-07-10T18:56:37.780690Z",
     "shell.execute_reply": "2021-07-10T18:56:37.779174Z",
     "shell.execute_reply.started": "2021-07-10T18:56:37.768918Z"
    },
    "tags": []
   },
   "outputs": [
    {
     "data": {
      "text/plain": [
       "(array([2.73209807e-03, 1.18165150e-09, 1.16198045e+00]),\n",
       " array([0.02033176, 0.79565657, 0.04387686]))"
      ]
     },
     "execution_count": 11,
     "metadata": {},
     "output_type": "execute_result"
    }
   ],
   "source": [
    "popt_model, np.sqrt(np.diag(pcov_model))/popt_model"
   ]
  },
  {
   "cell_type": "code",
   "execution_count": 12,
   "id": "647a69cd-4e31-4593-9381-d41c9a3de303",
   "metadata": {
    "execution": {
     "iopub.execute_input": "2021-07-10T18:56:42.897152Z",
     "iopub.status.busy": "2021-07-10T18:56:42.896607Z",
     "iopub.status.idle": "2021-07-10T18:56:43.929305Z",
     "shell.execute_reply": "2021-07-10T18:56:43.927475Z",
     "shell.execute_reply.started": "2021-07-10T18:56:42.897091Z"
    },
    "tags": []
   },
   "outputs": [
    {
     "data": {
      "text/plain": [
       "Text(0, 0.5, 'Execution time [s]')"
      ]
     },
     "execution_count": 12,
     "metadata": {},
     "output_type": "execute_result"
    },
    {
     "data": {
      "image/png": "[encoded data removed]",
      "text/plain": [
       "<Figure size 576x432 with 1 Axes>"
      ]
     },
     "metadata": {
      "needs_background": "light"
     },
     "output_type": "display_data"
    }
   ],
   "source": [
    "x_plot = np.linspace(x.min(), x.max(), 200)\n",
    "plt.figure(figsize=(8,6))\n",
    "plt.errorbar(data[\"nnode\"], data[\"mean\"], data[\"std\"], fmt=\".\")\n",
    "#plt.plot(x_plot, lin_model(x_plot, *init1))\n",
    "#plt.plot(x_plot, lin_model(x_plot, *init2))\n",
    "plt.plot(x_plot, cst_plus_power_law(x_plot, *popt_model))\n",
    "\n",
    "plt.loglog()\n",
    "plt.xlabel(\"Number of node\")\n",
    "plt.ylabel(\"Execution time [s]\")"
   ]
  },
  {
   "cell_type": "markdown",
   "id": "41d309d8-7dc4-4c87-ae49-df623429e452",
   "metadata": {},
   "source": [
    "## Fit in log space"
   ]
  },
  {
   "cell_type": "code",
   "execution_count": 33,
   "id": "7e4602f9-595a-4628-82c8-8b909f43e656",
   "metadata": {
    "execution": {
     "iopub.execute_input": "2021-07-10T20:01:39.761842Z",
     "iopub.status.busy": "2021-07-10T20:01:39.761402Z",
     "iopub.status.idle": "2021-07-10T20:01:39.774203Z",
     "shell.execute_reply": "2021-07-10T20:01:39.772705Z",
     "shell.execute_reply.started": "2021-07-10T20:01:39.761792Z"
    },
    "tags": []
   },
   "outputs": [],
   "source": [
    "x = np.log10(data[\"nnode\"])\n",
    "y = np.log10(data[\"mean\"])\n",
    "err_y = np.log(data[\"std\"])"
   ]
  },
  {
   "cell_type": "code",
   "execution_count": 34,
   "id": "e0536b0d-fac7-4969-9989-7a8788ba8ac9",
   "metadata": {
    "execution": {
     "iopub.execute_input": "2021-07-10T20:01:40.349762Z",
     "iopub.status.busy": "2021-07-10T20:01:40.349410Z",
     "iopub.status.idle": "2021-07-10T20:01:40.708837Z",
     "shell.execute_reply": "2021-07-10T20:01:40.707474Z",
     "shell.execute_reply.started": "2021-07-10T20:01:40.349725Z"
    },
    "tags": []
   },
   "outputs": [],
   "source": [
    "# Init with asymptotic fits\n",
    "init1, pcov_init1 = curve_fit(lambda x, a, b : np.log10(lin_model(10**x, a , b)), x[:lim1], y[:lim1])\n",
    "init2, pcov_init2 = curve_fit(lambda x, a, b : np.log10(lin_model(10**x, a , b)), x[lim2:], y[lim2:])"
   ]
  },
  {
   "cell_type": "code",
   "execution_count": 35,
   "id": "5a816a1b-8e78-405a-a117-cd342994895a",
   "metadata": {
    "execution": {
     "iopub.execute_input": "2021-07-10T20:01:44.527361Z",
     "iopub.status.busy": "2021-07-10T20:01:44.526964Z",
     "iopub.status.idle": "2021-07-10T20:01:44.554105Z",
     "shell.execute_reply": "2021-07-10T20:01:44.537516Z",
     "shell.execute_reply.started": "2021-07-10T20:01:44.527320Z"
    },
    "tags": []
   },
   "outputs": [
    {
     "data": {
      "text/plain": [
       "(array([2.73643042e-03, 4.32956669e-09]), array([0.03813867, 0.5745404 ]))"
      ]
     },
     "execution_count": 35,
     "metadata": {},
     "output_type": "execute_result"
    }
   ],
   "source": [
    "init1, np.sqrt(np.diag(pcov_init1))/init1"
   ]
  },
  {
   "cell_type": "code",
   "execution_count": 36,
   "id": "d467a92e-0ac4-4184-a081-c92f941b64b6",
   "metadata": {
    "execution": {
     "iopub.execute_input": "2021-07-10T20:01:47.966229Z",
     "iopub.status.busy": "2021-07-10T20:01:47.965894Z",
     "iopub.status.idle": "2021-07-10T20:01:47.973527Z",
     "shell.execute_reply": "2021-07-10T20:01:47.972140Z",
     "shell.execute_reply.started": "2021-07-10T20:01:47.966193Z"
    },
    "tags": []
   },
   "outputs": [],
   "source": [
    "slope1, constant1 = init1\n",
    "slope2, constant2 = init2"
   ]
  },
  {
   "cell_type": "code",
   "execution_count": 37,
   "id": "caac7a1d-5199-4ceb-a9db-9e0bc596ab57",
   "metadata": {
    "execution": {
     "iopub.execute_input": "2021-07-10T20:01:57.763090Z",
     "iopub.status.busy": "2021-07-10T20:01:57.762553Z",
     "iopub.status.idle": "2021-07-10T20:01:58.021701Z",
     "shell.execute_reply": "2021-07-10T20:01:58.020372Z",
     "shell.execute_reply.started": "2021-07-10T20:01:57.763030Z"
    },
    "tags": []
   },
   "outputs": [],
   "source": [
    "popt_log1, pcov_log1 = curve_fit(\n",
    "    lambda x, a, b, c: np.log10(cst_plus_power_law(10**x, a, b, c)),\n",
    "    x, y, sigma=err_y, p0=[constant1, constant2, slope2]\n",
    ")"
   ]
  },
  {
   "cell_type": "code",
   "execution_count": 38,
   "id": "d2d2b8ce-0096-432f-ab60-0e2f2e4b42a9",
   "metadata": {
    "execution": {
     "iopub.execute_input": "2021-07-10T20:02:03.163287Z",
     "iopub.status.busy": "2021-07-10T20:02:03.162926Z",
     "iopub.status.idle": "2021-07-10T20:02:03.174987Z",
     "shell.execute_reply": "2021-07-10T20:02:03.173569Z",
     "shell.execute_reply.started": "2021-07-10T20:02:03.163249Z"
    },
    "tags": []
   },
   "outputs": [
    {
     "data": {
      "text/plain": [
       "(array([2.60863092e-03, 1.09369694e-09, 1.16839619e+00]),\n",
       " array([0.03537997, 0.34267203, 0.01978456]))"
      ]
     },
     "execution_count": 38,
     "metadata": {},
     "output_type": "execute_result"
    }
   ],
   "source": [
    "popt_log1, np.sqrt(np.diag(pcov_log1))/popt_log1"
   ]
  },
  {
   "cell_type": "code",
   "execution_count": 39,
   "id": "e7877d8b-d68c-4258-9320-16731d0c19e9",
   "metadata": {
    "execution": {
     "iopub.execute_input": "2021-07-10T20:02:10.110588Z",
     "iopub.status.busy": "2021-07-10T20:02:10.110226Z",
     "iopub.status.idle": "2021-07-10T20:02:10.688026Z",
     "shell.execute_reply": "2021-07-10T20:02:10.686322Z",
     "shell.execute_reply.started": "2021-07-10T20:02:10.110550Z"
    },
    "tags": []
   },
   "outputs": [
    {
     "data": {
      "text/plain": [
       "Text(0, 0.5, 'Execution time [s]')"
      ]
     },
     "execution_count": 39,
     "metadata": {},
     "output_type": "execute_result"
    },
    {
     "data": {
      "image/png": "[encoded data removed]",
      "text/plain": [
       "<Figure size 576x432 with 1 Axes>"
      ]
     },
     "metadata": {
      "needs_background": "light"
     },
     "output_type": "display_data"
    }
   ],
   "source": [
    "x_plot = np.logspace(x.min(), x.max(), 200)\n",
    "plt.figure(figsize=(8,6))\n",
    "plt.errorbar(data[\"nnode\"], data[\"mean\"], data[\"std\"], fmt=\".\")\n",
    "#plt.plot(x_plot, lin_model(x_plot, *init1))\n",
    "#plt.plot(x_plot, lin_model(x_plot, *init2))\n",
    "plt.plot(x_plot, cst_plus_power_law(x_plot, *popt_log1))\n",
    "\n",
    "plt.loglog()\n",
    "plt.xlabel(\"Number of node\")\n",
    "plt.ylabel(\"Execution time [s]\")"
   ]
  },
  {
   "cell_type": "code",
   "execution_count": null,
   "id": "68ac2fe9-ef71-4464-9f88-d5bfd4caea46",
   "metadata": {},
   "outputs": [],
   "source": []
  }
 ],
 "metadata": {
  "kernelspec": {
   "display_name": "Python 3",
   "language": "python",
   "name": "python3"
  },
  "language_info": {
   "codemirror_mode": {
    "name": "ipython",
    "version": 3
   },
   "file_extension": ".py",
   "mimetype": "text/x-python",
   "name": "python",
   "nbconvert_exporter": "python",
   "pygments_lexer": "ipython3",
   "version": "3.8.9"
  }
 },
 "nbformat": 4,
 "nbformat_minor": 5
}
